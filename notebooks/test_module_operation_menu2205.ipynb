{
 "cells": [
  {
   "cell_type": "code",
   "execution_count": 10,
   "metadata": {},
   "outputs": [],
   "source": [
    "import sys\n",
    "import os\n",
    "\n",
    "notebook_dir = os.getcwd()\n",
    "modules_dir = os.path.join(notebook_dir, '..', 'modules')\n",
    "sys.path.append(modules_dir)\n",
    "\n",
    "import importlib\n",
    "import download_automation\n",
    "importlib.reload(download_automation)\n",
    "from download_automation import *"
   ]
  },
  {
   "cell_type": "code",
   "execution_count": 11,
   "metadata": {},
   "outputs": [
    {
     "name": "stdout",
     "output_type": "stream",
     "text": [
      "Already exists: C:\\datalake\\dataset-menu2205\n"
     ]
    }
   ],
   "source": [
    "m = MOS(menu_code='2205', fund_code='100096', input_date=get_date_n_days_ago(get_today(), 1))"
   ]
  },
  {
   "cell_type": "code",
   "execution_count": 12,
   "metadata": {},
   "outputs": [
    {
     "name": "stdout",
     "output_type": "stream",
     "text": [
      "- open menu: 2205\n",
      "- input fund code: 100077\n",
      "- input ref date: 20240820\n",
      "- click search button\n",
      "|- search loading ... (attempt 1)\n",
      "|- search loading ... (attempt 2)\n",
      "|- search loaded.\n",
      "- click excel button\n",
      "- click excel popup button\n",
      "|- waiting for data loading to start ... (attempt 1)\n",
      "|- waiting for data loading to start ... (attempt 2)\n",
      "|- waiting for data loading to start ... (attempt 3)\n",
      "|- waiting for data loading to start ... (attempt 4)\n",
      "|- data loading started.\n",
      "|- data loading ... (attempt 1)\n",
      "|- data loaded.\n",
      "-- checking excel is running ...\n",
      "-- excel is running.\n",
      "- step: open save as popup.\n",
      "-- checking excel save as popup ...\n",
      "-- excel save as popup appeared.\n",
      "- step: input save settings.\n",
      "    image appeared on screen\n",
      "    image disappeared from screen\n",
      "- step: terminate Excel.\n"
     ]
    },
    {
     "name": "stderr",
     "output_type": "stream",
     "text": [
      "INFO:botocore.credentials:Found credentials in environment variables.\n"
     ]
    },
    {
     "name": "stdout",
     "output_type": "stream",
     "text": [
      "- step: validate download process.\n",
      "-- 24 rows in dataset.\n",
      "- step: download complete.\n",
      "Found 1 files in C:\\datalake\\dataset-menu2205 that match the regex pattern.\n",
      "Uploaded C:\\datalake\\dataset-menu2205\\menu2205-code100077-at20240820-save20240821.csv to s3://dataset-system/dataset-menu2205-snapshot/menu2205-code100077-at20240820-save20240821.csv\n",
      "- step: uploading dataset to S3://dataset-system/dataset-menu2205-snapshot complete.\n",
      "- There are only 0 Excel processes running. No action needed.\n"
     ]
    }
   ],
   "source": [
    "m.execute_all_sequences()"
   ]
  },
  {
   "cell_type": "code",
   "execution_count": null,
   "metadata": {},
   "outputs": [],
   "source": []
  }
 ],
 "metadata": {
  "kernelspec": {
   "display_name": "Python 3",
   "language": "python",
   "name": "python3"
  },
  "language_info": {
   "codemirror_mode": {
    "name": "ipython",
    "version": 3
   },
   "file_extension": ".py",
   "mimetype": "text/x-python",
   "name": "python",
   "nbconvert_exporter": "python",
   "pygments_lexer": "ipython3",
   "version": "3.12.4"
  }
 },
 "nbformat": 4,
 "nbformat_minor": 2
}
