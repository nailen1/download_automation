{
 "cells": [
  {
   "cell_type": "code",
   "execution_count": 1,
   "metadata": {},
   "outputs": [
    {
     "name": "stderr",
     "output_type": "stream",
     "text": [
      "INFO:shining_pebbles:Shining Pebbles package initialized\n",
      "INFO:aws_s3_controller:aws_s3_controller package initialized\n"
     ]
    }
   ],
   "source": [
    "from download_automation import *"
   ]
  },
  {
   "cell_type": "code",
   "execution_count": 2,
   "metadata": {},
   "outputs": [
    {
     "name": "stdout",
     "output_type": "stream",
     "text": [
      "Already exists: C:\\dev-system\\module-download_automation\\data\\dataset-coordinate\n"
     ]
    }
   ],
   "source": [
    "tracer = Tracer(subject='menu2820')"
   ]
  },
  {
   "cell_type": "code",
   "execution_count": 4,
   "metadata": {},
   "outputs": [
    {
     "name": "stdout",
     "output_type": "stream",
     "text": [
      "화면을 클릭하세요. 20초간 움직임이 없거나 ESC를 누르면 종료됩니다.\n",
      "Clicked at (1015, 37)\n",
      "Clicked at (115, 208)\n",
      "Clicked at (122, 244)\n",
      "Clicked at (235, 240)\n",
      "Clicked at (1173, 127)\n",
      "Clicked at (1154, 279)\n",
      "Clicked at (1039, 434)\n",
      "📄 Recorded coordinates saved to dataset-coordinate-menu2820-save2024082208.csv\n"
     ]
    },
    {
     "data": {
      "text/html": [
       "<div>\n",
       "<style scoped>\n",
       "    .dataframe tbody tr th:only-of-type {\n",
       "        vertical-align: middle;\n",
       "    }\n",
       "\n",
       "    .dataframe tbody tr th {\n",
       "        vertical-align: top;\n",
       "    }\n",
       "\n",
       "    .dataframe thead th {\n",
       "        text-align: right;\n",
       "    }\n",
       "</style>\n",
       "<table border=\"1\" class=\"dataframe\">\n",
       "  <thead>\n",
       "    <tr style=\"text-align: right;\">\n",
       "      <th>menu2820</th>\n",
       "      <th>screen_size</th>\n",
       "      <th>absolute_coord</th>\n",
       "      <th>relative_coord</th>\n",
       "    </tr>\n",
       "    <tr>\n",
       "      <th>step</th>\n",
       "      <th></th>\n",
       "      <th></th>\n",
       "      <th></th>\n",
       "    </tr>\n",
       "  </thead>\n",
       "  <tbody>\n",
       "    <tr>\n",
       "      <th>1</th>\n",
       "      <td>(2560, 1440)</td>\n",
       "      <td>(1015, 37)</td>\n",
       "      <td>(0.3965, 0.0257)</td>\n",
       "    </tr>\n",
       "    <tr>\n",
       "      <th>2</th>\n",
       "      <td>(2560, 1440)</td>\n",
       "      <td>(115, 208)</td>\n",
       "      <td>(0.0449, 0.1444)</td>\n",
       "    </tr>\n",
       "    <tr>\n",
       "      <th>3</th>\n",
       "      <td>(2560, 1440)</td>\n",
       "      <td>(122, 244)</td>\n",
       "      <td>(0.0477, 0.1694)</td>\n",
       "    </tr>\n",
       "    <tr>\n",
       "      <th>4</th>\n",
       "      <td>(2560, 1440)</td>\n",
       "      <td>(235, 240)</td>\n",
       "      <td>(0.0918, 0.1667)</td>\n",
       "    </tr>\n",
       "    <tr>\n",
       "      <th>5</th>\n",
       "      <td>(2560, 1440)</td>\n",
       "      <td>(1173, 127)</td>\n",
       "      <td>(0.4582, 0.0882)</td>\n",
       "    </tr>\n",
       "    <tr>\n",
       "      <th>6</th>\n",
       "      <td>(2560, 1440)</td>\n",
       "      <td>(1154, 279)</td>\n",
       "      <td>(0.4508, 0.1938)</td>\n",
       "    </tr>\n",
       "    <tr>\n",
       "      <th>7</th>\n",
       "      <td>(2560, 1440)</td>\n",
       "      <td>(1039, 434)</td>\n",
       "      <td>(0.4059, 0.3014)</td>\n",
       "    </tr>\n",
       "  </tbody>\n",
       "</table>\n",
       "</div>"
      ],
      "text/plain": [
       "menu2820   screen_size absolute_coord    relative_coord\n",
       "step                                                   \n",
       "1         (2560, 1440)     (1015, 37)  (0.3965, 0.0257)\n",
       "2         (2560, 1440)     (115, 208)  (0.0449, 0.1444)\n",
       "3         (2560, 1440)     (122, 244)  (0.0477, 0.1694)\n",
       "4         (2560, 1440)     (235, 240)  (0.0918, 0.1667)\n",
       "5         (2560, 1440)    (1173, 127)  (0.4582, 0.0882)\n",
       "6         (2560, 1440)    (1154, 279)  (0.4508, 0.1938)\n",
       "7         (2560, 1440)    (1039, 434)  (0.4059, 0.3014)"
      ]
     },
     "execution_count": 4,
     "metadata": {},
     "output_type": "execute_result"
    }
   ],
   "source": [
    "tracer.record_coordinates()"
   ]
  },
  {
   "cell_type": "code",
   "execution_count": 5,
   "metadata": {},
   "outputs": [
    {
     "name": "stdout",
     "output_type": "stream",
     "text": [
      "📄 Sequences appended to dataset-coordinate-menu2820-save2024082208.csv\n"
     ]
    },
    {
     "data": {
      "text/html": [
       "<div>\n",
       "<style scoped>\n",
       "    .dataframe tbody tr th:only-of-type {\n",
       "        vertical-align: middle;\n",
       "    }\n",
       "\n",
       "    .dataframe tbody tr th {\n",
       "        vertical-align: top;\n",
       "    }\n",
       "\n",
       "    .dataframe thead th {\n",
       "        text-align: right;\n",
       "    }\n",
       "</style>\n",
       "<table border=\"1\" class=\"dataframe\">\n",
       "  <thead>\n",
       "    <tr style=\"text-align: right;\">\n",
       "      <th></th>\n",
       "      <th>screen_size</th>\n",
       "      <th>absolute_coord</th>\n",
       "      <th>relative_coord</th>\n",
       "      <th>sequence</th>\n",
       "    </tr>\n",
       "    <tr>\n",
       "      <th>step</th>\n",
       "      <th></th>\n",
       "      <th></th>\n",
       "      <th></th>\n",
       "      <th></th>\n",
       "    </tr>\n",
       "  </thead>\n",
       "  <tbody>\n",
       "    <tr>\n",
       "      <th>1</th>\n",
       "      <td>(2560, 1440)</td>\n",
       "      <td>(1015, 37)</td>\n",
       "      <td>(0.3965, 0.0257)</td>\n",
       "      <td>input_menu_code</td>\n",
       "    </tr>\n",
       "    <tr>\n",
       "      <th>2</th>\n",
       "      <td>(2560, 1440)</td>\n",
       "      <td>(115, 208)</td>\n",
       "      <td>(0.0449, 0.1444)</td>\n",
       "      <td>input_fund_code</td>\n",
       "    </tr>\n",
       "    <tr>\n",
       "      <th>3</th>\n",
       "      <td>(2560, 1440)</td>\n",
       "      <td>(122, 244)</td>\n",
       "      <td>(0.0477, 0.1694)</td>\n",
       "      <td>input_start_date</td>\n",
       "    </tr>\n",
       "    <tr>\n",
       "      <th>4</th>\n",
       "      <td>(2560, 1440)</td>\n",
       "      <td>(235, 240)</td>\n",
       "      <td>(0.0918, 0.1667)</td>\n",
       "      <td>input_end_date</td>\n",
       "    </tr>\n",
       "    <tr>\n",
       "      <th>5</th>\n",
       "      <td>(2560, 1440)</td>\n",
       "      <td>(1173, 127)</td>\n",
       "      <td>(0.4582, 0.0882)</td>\n",
       "      <td>button_search</td>\n",
       "    </tr>\n",
       "    <tr>\n",
       "      <th>6</th>\n",
       "      <td>(2560, 1440)</td>\n",
       "      <td>(1154, 279)</td>\n",
       "      <td>(0.4508, 0.1938)</td>\n",
       "      <td>button_excel</td>\n",
       "    </tr>\n",
       "    <tr>\n",
       "      <th>7</th>\n",
       "      <td>(2560, 1440)</td>\n",
       "      <td>(1039, 434)</td>\n",
       "      <td>(0.4059, 0.3014)</td>\n",
       "      <td>button_excel_popup</td>\n",
       "    </tr>\n",
       "  </tbody>\n",
       "</table>\n",
       "</div>"
      ],
      "text/plain": [
       "       screen_size absolute_coord    relative_coord            sequence\n",
       "step                                                                   \n",
       "1     (2560, 1440)     (1015, 37)  (0.3965, 0.0257)     input_menu_code\n",
       "2     (2560, 1440)     (115, 208)  (0.0449, 0.1444)     input_fund_code\n",
       "3     (2560, 1440)     (122, 244)  (0.0477, 0.1694)    input_start_date\n",
       "4     (2560, 1440)     (235, 240)  (0.0918, 0.1667)      input_end_date\n",
       "5     (2560, 1440)    (1173, 127)  (0.4582, 0.0882)       button_search\n",
       "6     (2560, 1440)    (1154, 279)  (0.4508, 0.1938)        button_excel\n",
       "7     (2560, 1440)    (1039, 434)  (0.4059, 0.3014)  button_excel_popup"
      ]
     },
     "execution_count": 5,
     "metadata": {},
     "output_type": "execute_result"
    }
   ],
   "source": [
    "tracer.append_sequences_to_recorded_coordinates(sequences=['input_menu_code', 'input_fund_code', 'input_start_date', 'input_end_date', 'button_search', 'button_excel', 'button_excel_popup'])"
   ]
  },
  {
   "cell_type": "code",
   "execution_count": null,
   "metadata": {},
   "outputs": [],
   "source": []
  }
 ],
 "metadata": {
  "kernelspec": {
   "display_name": "Python 3",
   "language": "python",
   "name": "python3"
  },
  "language_info": {
   "codemirror_mode": {
    "name": "ipython",
    "version": 3
   },
   "file_extension": ".py",
   "mimetype": "text/x-python",
   "name": "python",
   "nbconvert_exporter": "python",
   "pygments_lexer": "ipython3",
   "version": "3.12.4"
  }
 },
 "nbformat": 4,
 "nbformat_minor": 2
}
